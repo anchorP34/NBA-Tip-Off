{
 "cells": [
  {
   "cell_type": "code",
   "execution_count": 20,
   "metadata": {},
   "outputs": [],
   "source": [
    "import pandas as pd\n",
    "import numpy as np\n",
    "import os"
   ]
  },
  {
   "cell_type": "code",
   "execution_count": 3,
   "metadata": {},
   "outputs": [
    {
     "data": {
      "text/plain": [
       "['2016 Tip Off Results.csv',\n",
       " '2017 Tip Off Results.csv',\n",
       " 'Untitled.ipynb',\n",
       " '2018 Tip Off Results.csv',\n",
       " '2019 Tip Off Results.csv',\n",
       " '.ipynb_checkpoints',\n",
       " '2020 Tip Off Results.csv']"
      ]
     },
     "execution_count": 3,
     "metadata": {},
     "output_type": "execute_result"
    }
   ],
   "source": [
    "os.listdir()"
   ]
  },
  {
   "cell_type": "code",
   "execution_count": 13,
   "metadata": {},
   "outputs": [
    {
     "data": {
      "text/html": [
       "<div>\n",
       "<style scoped>\n",
       "    .dataframe tbody tr th:only-of-type {\n",
       "        vertical-align: middle;\n",
       "    }\n",
       "\n",
       "    .dataframe tbody tr th {\n",
       "        vertical-align: top;\n",
       "    }\n",
       "\n",
       "    .dataframe thead th {\n",
       "        text-align: right;\n",
       "    }\n",
       "</style>\n",
       "<table border=\"1\" class=\"dataframe\">\n",
       "  <thead>\n",
       "    <tr style=\"text-align: right;\">\n",
       "      <th></th>\n",
       "      <th>season</th>\n",
       "      <th>game_date</th>\n",
       "      <th>game_away_team</th>\n",
       "      <th>game_home_team</th>\n",
       "      <th>game_url</th>\n",
       "      <th>visiting_center</th>\n",
       "      <th>home_center</th>\n",
       "      <th>winning_tip</th>\n",
       "      <th>Visiting Team Event</th>\n",
       "      <th>Visiting Team Player</th>\n",
       "      <th>Home Team Event</th>\n",
       "      <th>Home Team Player</th>\n",
       "      <th>Score</th>\n",
       "      <th>Possession</th>\n",
       "    </tr>\n",
       "  </thead>\n",
       "  <tbody>\n",
       "  </tbody>\n",
       "</table>\n",
       "</div>"
      ],
      "text/plain": [
       "Empty DataFrame\n",
       "Columns: [season, game_date, game_away_team, game_home_team, game_url, visiting_center, home_center, winning_tip, Visiting Team Event, Visiting Team Player, Home Team Event, Home Team Player, Score, Possession]\n",
       "Index: []"
      ]
     },
     "execution_count": 13,
     "metadata": {},
     "output_type": "execute_result"
    }
   ],
   "source": [
    "all_seasons_df = pd.DataFrame(columns = ['season', 'game_date', 'game_away_team', 'game_home_team', 'game_url',\n",
    "       'visiting_center', 'home_center', 'winning_tip', 'Visiting Team Event',\n",
    "       'Visiting Team Player', 'Home Team Event', 'Home Team Player', 'Score',\n",
    "       'Possession'])\n",
    "all_seasons_df"
   ]
  },
  {
   "cell_type": "code",
   "execution_count": 14,
   "metadata": {},
   "outputs": [],
   "source": [
    "for file in [file for file in os.listdir() if file.endswith('.csv')]:\n",
    "    df = pd.read_csv(file)\n",
    "    all_seasons_df = all_seasons_df.append(df,ignore_index = True)"
   ]
  },
  {
   "cell_type": "code",
   "execution_count": 17,
   "metadata": {},
   "outputs": [
    {
     "data": {
      "text/plain": [
       "'A. Drummond misses 2-pt layup from 1 ft (block by A. Horford)'"
      ]
     },
     "execution_count": 17,
     "metadata": {},
     "output_type": "execute_result"
    }
   ],
   "source": [
    "all_seasons_df.loc[0, 'Visiting Team Event']"
   ]
  },
  {
   "cell_type": "code",
   "execution_count": 23,
   "metadata": {},
   "outputs": [],
   "source": [
    "def point_attempt(row):\n",
    "    visiting_event = row['Visiting Team Event']\n",
    "    home_event = row['Home Team Event']\n",
    "    \n",
    "    if pd.isnull(visiting_event):\n",
    "        if 'pt' in home_event:\n",
    "            split_vals = home_event.split('-pt')\n",
    "            return split_vals[0][-1]\n",
    "    else:\n",
    "        if 'pt' in visiting_event:\n",
    "            split_vals = visiting_event.split('-pt')\n",
    "            return split_vals[0][-1]"
   ]
  },
  {
   "cell_type": "code",
   "execution_count": 30,
   "metadata": {},
   "outputs": [],
   "source": [
    "def feet_away(row):\n",
    "    visiting_event = row['Visiting Team Event']\n",
    "    home_event = row['Home Team Event']\n",
    "    \n",
    "    if pd.isnull(visiting_event):\n",
    "        if ' ft' in home_event:\n",
    "            split_vals = home_event.split(' ft')\n",
    "            return split_vals[0].split()[-1]\n",
    "    else:\n",
    "        if ' ft' in visiting_event:\n",
    "            split_vals = visiting_event.split(' ft')\n",
    "            \n",
    "            return split_vals[0].split()[-1]"
   ]
  },
  {
   "cell_type": "code",
   "execution_count": 36,
   "metadata": {},
   "outputs": [],
   "source": [
    "def offensive_rebound(row):\n",
    "    visiting_event = row['Visiting Team Event']\n",
    "    home_event = row['Home Team Event']\n",
    "    \n",
    "    if pd.isnull(visiting_event):\n",
    "        event = home_event\n",
    "    else:\n",
    "        event = visiting_event\n",
    "    if 'Offensive rebound' in event:\n",
    "        return 1\n",
    "    else:\n",
    "        return 0\n",
    "\n",
    "def defensive_rebound(row):\n",
    "    visiting_event = row['Visiting Team Event']\n",
    "    home_event = row['Home Team Event']\n",
    "    \n",
    "    if pd.isnull(visiting_event):\n",
    "        event = home_event\n",
    "    else:\n",
    "        event = visiting_event\n",
    "    if 'Defensive rebound' in event:\n",
    "        return 1\n",
    "    else:\n",
    "        return 0   "
   ]
  },
  {
   "cell_type": "code",
   "execution_count": 39,
   "metadata": {},
   "outputs": [],
   "source": [
    "def turnover(row):\n",
    "    visiting_event = row['Visiting Team Event']\n",
    "    home_event = row['Home Team Event']\n",
    "    \n",
    "    if pd.isnull(visiting_event):\n",
    "        event = home_event\n",
    "    else:\n",
    "        event = visiting_event\n",
    "    if 'TURNOVER' in event.upper():\n",
    "        return 1\n",
    "    else:\n",
    "        return 0  "
   ]
  },
  {
   "cell_type": "code",
   "execution_count": 25,
   "metadata": {},
   "outputs": [],
   "source": [
    "all_seasons_df['Point Attempt'] = all_seasons_df.apply(point_attempt, axis = 1)"
   ]
  },
  {
   "cell_type": "code",
   "execution_count": 31,
   "metadata": {},
   "outputs": [],
   "source": [
    "all_seasons_df['Shot Distance'] = all_seasons_df.apply(feet_away, axis = 1)"
   ]
  },
  {
   "cell_type": "code",
   "execution_count": 37,
   "metadata": {},
   "outputs": [],
   "source": [
    "all_seasons_df['Offensive Rebound'] = all_seasons_df.apply(offensive_rebound, axis = 1)\n",
    "all_seasons_df['Defensive Rebound'] = all_seasons_df.apply(defensive_rebound, axis = 1)"
   ]
  },
  {
   "cell_type": "code",
   "execution_count": 40,
   "metadata": {},
   "outputs": [],
   "source": [
    "all_seasons_df['Turnover'] = all_seasons_df.apply(turnover, axis = 1)"
   ]
  },
  {
   "cell_type": "code",
   "execution_count": 44,
   "metadata": {},
   "outputs": [],
   "source": [
    "all_seasons_df.reset_index(inplace = True)"
   ]
  },
  {
   "cell_type": "code",
   "execution_count": null,
   "metadata": {},
   "outputs": [],
   "source": []
  },
  {
   "cell_type": "code",
   "execution_count": null,
   "metadata": {},
   "outputs": [],
   "source": []
  },
  {
   "cell_type": "code",
   "execution_count": 45,
   "metadata": {},
   "outputs": [],
   "source": [
    "all_seasons_df.to_csv('All Seasons.csv',index = False)"
   ]
  },
  {
   "cell_type": "code",
   "execution_count": null,
   "metadata": {},
   "outputs": [],
   "source": []
  }
 ],
 "metadata": {
  "kernelspec": {
   "display_name": "Python 3",
   "language": "python",
   "name": "python3"
  },
  "language_info": {
   "codemirror_mode": {
    "name": "ipython",
    "version": 3
   },
   "file_extension": ".py",
   "mimetype": "text/x-python",
   "name": "python",
   "nbconvert_exporter": "python",
   "pygments_lexer": "ipython3",
   "version": "3.6.9"
  }
 },
 "nbformat": 4,
 "nbformat_minor": 2
}
